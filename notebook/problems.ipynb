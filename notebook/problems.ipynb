{
    "cells": [
        {
            "cell_type": "markdown",
            "id": "ac622319",
            "metadata": {},
            "source": [
                "# Descriptive statistics problems"
            ]
        },
        {
            "cell_type": "markdown",
            "id": "5e0ab0d5",
            "metadata": {},
            "source": [
                "### Exercise 1\n",
                "\n",
                "We will use NumPy to obtain information to describe statistically.\n",
                "\n",
                "- Generate an array of 100 elements following a normal distribution.\n",
                "- Generate an array of 100 elements following a chi-square distribution with 3 degrees of freedom.\n",
                "- Calculate the main metrics and statistical measures that best describe the two vectors."
            ]
        },
        {
            "cell_type": "code",
            "execution_count": 13,
            "id": "34720ab6",
            "metadata": {},
            "outputs": [
                {
                    "name": "stdout",
                    "output_type": "stream",
                    "text": [
                        "Normal Distribution Stats:\n",
                        "Mean: 0.0385\n",
                        "Median: 0.0921\n",
                        "Variance: 0.9861\n",
                        "Standard Deviation: 0.9930\n",
                        "Min: -2.2491\n",
                        "Max: 2.3286\n",
                        "Skewness: 0.0038\n",
                        "Kurtosis: -0.5882\n",
                        "\n",
                        "Chi-Square Distribution Stats:\n",
                        "Mean: 2.6977\n",
                        "Median: 2.4253\n",
                        "Variance: 4.8141\n",
                        "Standard Deviation: 2.1941\n",
                        "Min: 0.0250\n",
                        "Max: 12.7355\n",
                        "Skewness: 1.8937\n",
                        "Kurtosis: 5.0621\n"
                    ]
                }
            ],
            "source": [
                "import numpy as np\n",
                "import scipy.stats as stats\n",
                "\n",
                "# 1. Generate an array of 100 elements following a normal distribution (mean=0, std=1)\n",
                "normal_array = np.random.normal(0, 1, 100)\n",
                "\n",
                "# 2. Generate an array of 100 elements following a chi-square distribution with 3 degrees of freedom\n",
                "chi_square_array = np.random.chisquare(3, 100)\n",
                "\n",
                "# 3. Calculate the main metrics for both arrays\n",
                "\n",
                "# Function to calculate key statistics\n",
                "def calculate_statistics(arr):\n",
                "    mean = np.mean(arr)\n",
                "    median = np.median(arr)\n",
                "    variance = np.var(arr)\n",
                "    std_dev = np.std(arr)\n",
                "    min_val = np.min(arr)\n",
                "    max_val = np.max(arr)\n",
                "    skewness = stats.skew(arr)\n",
                "    kurtosis = stats.kurtosis(arr)\n",
                "    \n",
                "    return {\n",
                "        \"Mean\": mean,\n",
                "        \"Median\": median,\n",
                "        \"Variance\": variance,\n",
                "        \"Standard Deviation\": std_dev,\n",
                "        \"Min\": min_val,\n",
                "        \"Max\": max_val,\n",
                "        \"Skewness\": skewness,\n",
                "        \"Kurtosis\": kurtosis\n",
                "    }\n",
                "\n",
                "# 4. Get statistics for both arrays\n",
                "normal_stats = calculate_statistics(normal_array)\n",
                "chi_square_stats = calculate_statistics(chi_square_array)\n",
                "\n",
                "# 5. Print the statistics for comparison\n",
                "print(\"Normal Distribution Stats:\")\n",
                "for key, value in normal_stats.items():\n",
                "    print(f\"{key}: {value:.4f}\")\n",
                "\n",
                "print(\"\\nChi-Square Distribution Stats:\")\n",
                "for key, value in chi_square_stats.items():\n",
                "    print(f\"{key}: {value:.4f}\")\n"
            ]
        },
        {
            "cell_type": "markdown",
            "id": "46c70c3d",
            "metadata": {},
            "source": [
                "### Exercise 2\n",
                "\n",
                "Write a Python program to calculate the standard deviation of the following data:\n",
                "\n",
                "```py\n",
                "data = [4, 2, 5, 8, 6]\n",
                "```"
            ]
        },
        {
            "cell_type": "code",
            "execution_count": 12,
            "id": "d590308e",
            "metadata": {},
            "outputs": [
                {
                    "name": "stdout",
                    "output_type": "stream",
                    "text": [
                        "Standard Deviation: 2.0000\n"
                    ]
                }
            ],
            "source": [
                "import math\n",
                "import sys\n",
                "\n",
                "# Given data\n",
                "data = [4, 2, 5, 8, 6]\n",
                "\n",
                "# Step 1: Calculate the mean\n",
                "mean = sum(data) / len(data)\n",
                "\n",
                "# Step 2: Calculate the variance (average of squared differences from the mean)\n",
                "variance = sum((x - mean) ** 2 for x in data) / len(data)\n",
                "\n",
                "# Step 3: Standard deviation is the square root of the variance\n",
                "std_dev = math.sqrt(variance)\n",
                "\n",
                "# Step 4: Print the standard deviation\n",
                "print(f\"Standard Deviation: {std_dev:.4f}\")"
            ]
        }
    ],
    "metadata": {
        "interpreter": {
            "hash": "9248718ffe6ce6938b217e69dbcc175ea21f4c6b28a317e96c05334edae734bb"
        },
        "kernelspec": {
            "display_name": "Python 3.9.12 ('ML-BOOTCAMP')",
            "language": "python",
            "name": "python3"
        },
        "language_info": {
            "codemirror_mode": {
                "name": "ipython",
                "version": 3
            },
            "file_extension": ".py",
            "mimetype": "text/x-python",
            "name": "python",
            "nbconvert_exporter": "python",
            "pygments_lexer": "ipython3",
            "version": "3.11.4"
        }
    },
    "nbformat": 4,
    "nbformat_minor": 5
}
